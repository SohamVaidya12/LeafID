{
 "cells": [
  {
   "cell_type": "code",
   "execution_count": 1,
   "id": "0651360e",
   "metadata": {},
   "outputs": [
    {
     "name": "stdout",
     "output_type": "stream",
     "text": [
      "WARNING:tensorflow:No training configuration found in the save file, so the model was *not* compiled. Compile it manually.\n",
      "Running on local URL:  http://127.0.0.1:7860\n",
      "\n",
      "To create a public link, set `share=True` in `launch()`.\n"
     ]
    },
    {
     "data": {
      "text/html": [
       "<div><iframe src=\"http://127.0.0.1:7860/\" width=\"100%\" height=\"500\" allow=\"autoplay; camera; microphone; clipboard-read; clipboard-write;\" frameborder=\"0\" allowfullscreen></iframe></div>"
      ],
      "text/plain": [
       "<IPython.core.display.HTML object>"
      ]
     },
     "metadata": {},
     "output_type": "display_data"
    },
    {
     "data": {
      "text/plain": []
     },
     "execution_count": 1,
     "metadata": {},
     "output_type": "execute_result"
    },
    {
     "name": "stdout",
     "output_type": "stream",
     "text": [
      "1/1 [==============================] - 3s 3s/step\n",
      "1/1 [==============================] - 0s 144ms/step\n"
     ]
    }
   ],
   "source": [
    "import gradio as gr\n",
    "import cv2\n",
    "import numpy as np\n",
    "from cvzone.ClassificationModule import Classifier\n",
    "import math\n",
    "from reportlab.pdfgen import canvas\n",
    "import tempfile\n",
    "import os\n",
    "\n",
    "# Initialize classifier for Hibiscus vs Guava (Stage 1)\n",
    "classifier = Classifier(\"Model2/keras_model.h5\", \"Model2/labels.txt\")\n",
    "\n",
    "# Parameters for leaf detection\n",
    "imgSize = 300\n",
    "labels = [\"Hibiscus leaf\", \"Guava leaf\"]\n",
    "confidence_threshold = 0.5\n",
    "lower_green = np.array([25, 30, 20])\n",
    "upper_green = np.array([85, 255, 255])\n",
    "\n",
    "# Descriptions for Hibiscus or Guava classification\n",
    "plant_info = {\n",
    "    'Hibiscus': {\n",
    "        'description': 'This is a hibiscus leaf. Suitable for further analysis or gardening.',\n",
    "        'cure': 'N/A'\n",
    "    },\n",
    "    'Guava': {\n",
    "        'description': 'This is a guava leaf. Suitable for further analysis or gardening.',\n",
    "        'cure': 'N/A'\n",
    "    }\n",
    "}\n",
    "\n",
    "\n",
    "def process_image_for_classification(image):\n",
    "    # Convert the uploaded image to OpenCV format\n",
    "    image = np.array(image)\n",
    "\n",
    "    # Convert to HSV color space for better leaf isolation\n",
    "    hsv = cv2.cvtColor(image, cv2.COLOR_BGR2HSV)\n",
    "    mask = cv2.inRange(hsv, lower_green, upper_green)\n",
    "\n",
    "    # Apply morphological operations to remove small noise\n",
    "    kernel = np.ones((5, 5), np.uint8)\n",
    "    mask = cv2.morphologyEx(mask, cv2.MORPH_CLOSE, kernel)\n",
    "    mask = cv2.morphologyEx(mask, cv2.MORPH_OPEN, kernel)\n",
    "\n",
    "    # Find contours of the leaf in the masked area\n",
    "    contours, _ = cv2.findContours(mask, cv2.RETR_EXTERNAL, cv2.CHAIN_APPROX_SIMPLE)\n",
    "    if contours:\n",
    "        # Assume the largest contour is the leaf\n",
    "        largest_contour = max(contours, key=cv2.contourArea)\n",
    "        x, y, w, h = cv2.boundingRect(largest_contour)\n",
    "\n",
    "        # Crop and resize the leaf region\n",
    "        imgCrop = image[y:y + h, x:x + w]\n",
    "\n",
    "        # Resize to fit the model input size\n",
    "        imgWhite = np.ones((imgSize, imgSize, 3), np.uint8) * 255\n",
    "        aspectRatio = h / w\n",
    "        if aspectRatio > 1:  # Tall image\n",
    "            scale = imgSize / h\n",
    "            newWidth = math.ceil(scale * w)\n",
    "            imgResize = cv2.resize(imgCrop, (newWidth, imgSize))\n",
    "            wGap = math.ceil((imgSize - newWidth) / 2)\n",
    "            imgWhite[:, wGap:newWidth + wGap] = imgResize\n",
    "        else:  # Wide image\n",
    "            scale = imgSize / w\n",
    "            newHeight = math.ceil(scale * h)\n",
    "            imgResize = cv2.resize(imgCrop, (imgSize, newHeight))\n",
    "            hGap = math.ceil((imgSize - newHeight) / 2)\n",
    "            imgWhite[hGap:newHeight + hGap, :] = imgResize\n",
    "\n",
    "        # Perform leaf classification using the classifier model (Stage 1)\n",
    "        prediction, index = classifier.getPrediction(imgWhite, draw=False)\n",
    "        confidence_value = prediction[index]\n",
    "\n",
    "        if confidence_value >= confidence_threshold:\n",
    "            leaf_type = labels[index]\n",
    "        else:\n",
    "            leaf_type = \"Unknown\"\n",
    "\n",
    "        return leaf_type, confidence_value * 100\n",
    "    return \"No leaf detected\", 0\n",
    "\n",
    "\n",
    "def classify_image(image):\n",
    "    # Process the image to classify the leaf type using the existing classifier (Stage 1)\n",
    "    leaf_type, confidence = process_image_for_classification(image)\n",
    "\n",
    "    # Description for the classified leaf type (Stage 1)\n",
    "    if leaf_type == \"Hibiscus leaf\":\n",
    "        description = plant_info['Hibiscus']['description']\n",
    "    elif leaf_type == \"Guava leaf\":\n",
    "        description = plant_info['Guava']['description']\n",
    "    else:\n",
    "        description = \"Could not detect a leaf.\"\n",
    "\n",
    "    # Generate PDF report and save to a temporary file\n",
    "    with tempfile.NamedTemporaryFile(delete=False, suffix=\".pdf\") as tmp_file:\n",
    "        pdf_path = tmp_file.name\n",
    "        pdf = canvas.Canvas(pdf_path)\n",
    "        pdf.drawString(100, 750, \"Leaf Classification Report\")\n",
    "        pdf.drawString(100, 730, f\"Leaf Type: {leaf_type}\")\n",
    "        pdf.drawString(100, 710, f\"Confidence: {confidence:.2f}%\")\n",
    "        pdf.drawString(100, 690, f\"Description: {description}\")\n",
    "        pdf.save()\n",
    "\n",
    "    return leaf_type, confidence, description, pdf_path\n",
    "\n",
    "\n",
    "# Gradio interface for leaf detection and classification with PDF report\n",
    "interface = gr.Interface(\n",
    "    fn=classify_image,\n",
    "    inputs=gr.Image(type=\"numpy\", label=\"Upload Leaf Image\"),\n",
    "    outputs=[\n",
    "        gr.Textbox(label=\"Leaf Type (Stage 1)\"),\n",
    "        gr.Textbox(label=\"Confidence (%)\"),\n",
    "        gr.Textbox(label=\"Description\"),\n",
    "        gr.File(label=\"Download PDF Report\")\n",
    "    ],\n",
    "    title=\"LeafID: AI-Powered Leaf Identification System\",\n",
    "    description=\"Upload an image of a leaf to classify it as Hibiscus or Guava and download the report.\",\n",
    "    theme=\"default\"\n",
    ")\n",
    "\n",
    "# Launch the interface\n",
    "interface.launch()\n"
   ]
  },
  {
   "cell_type": "code",
   "execution_count": null,
   "id": "ef35168a",
   "metadata": {},
   "outputs": [],
   "source": []
  }
 ],
 "metadata": {
  "kernelspec": {
   "display_name": "Python 3 (ipykernel)",
   "language": "python",
   "name": "python3"
  },
  "language_info": {
   "codemirror_mode": {
    "name": "ipython",
    "version": 3
   },
   "file_extension": ".py",
   "mimetype": "text/x-python",
   "name": "python",
   "nbconvert_exporter": "python",
   "pygments_lexer": "ipython3",
   "version": "3.9.13"
  }
 },
 "nbformat": 4,
 "nbformat_minor": 5
}
